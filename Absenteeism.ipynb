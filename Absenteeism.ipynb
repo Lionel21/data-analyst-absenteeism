{
 "cells": [
  {
   "cell_type": "markdown",
   "id": "2e94f95b",
   "metadata": {},
   "source": [
    "## Import NumPy and Pandas"
   ]
  },
  {
   "cell_type": "code",
   "execution_count": 1,
   "id": "6660a284",
   "metadata": {},
   "outputs": [],
   "source": [
    "import numpy as np\n",
    "import pandas as pd"
   ]
  },
  {
   "cell_type": "markdown",
   "id": "89775e88",
   "metadata": {},
   "source": [
    "## Get \"Absenteeism-data.csv\" original file"
   ]
  },
  {
   "cell_type": "code",
   "execution_count": 2,
   "id": "e0aeabf6",
   "metadata": {},
   "outputs": [],
   "source": [
    "raw_csv_data = pd.read_csv(\"Absenteeism-data.csv\")"
   ]
  },
  {
   "cell_type": "markdown",
   "id": "cf393076",
   "metadata": {},
   "source": [
    "## Display data"
   ]
  },
  {
   "cell_type": "code",
   "execution_count": 3,
   "id": "c8947e3d",
   "metadata": {},
   "outputs": [],
   "source": [
    "#raw_csv_data"
   ]
  },
  {
   "cell_type": "markdown",
   "id": "0ac346e6",
   "metadata": {},
   "source": [
    "## Create a copy from the original file"
   ]
  },
  {
   "cell_type": "code",
   "execution_count": 4,
   "id": "a6007659",
   "metadata": {},
   "outputs": [],
   "source": [
    "df = raw_csv_data.copy()"
   ]
  },
  {
   "cell_type": "code",
   "execution_count": 5,
   "id": "0e4cefc7",
   "metadata": {},
   "outputs": [],
   "source": [
    "#df"
   ]
  },
  {
   "cell_type": "markdown",
   "id": "52953306",
   "metadata": {},
   "source": [
    "## Display all columns and rows"
   ]
  },
  {
   "cell_type": "code",
   "execution_count": 6,
   "id": "a485ecd7",
   "metadata": {},
   "outputs": [],
   "source": [
    "pd.options.display.max_columns = None\n",
    "pd.options.display.max_rows = None"
   ]
  },
  {
   "cell_type": "code",
   "execution_count": 7,
   "id": "8f100d9a",
   "metadata": {},
   "outputs": [],
   "source": [
    "#display(df)"
   ]
  },
  {
   "cell_type": "markdown",
   "id": "34c0a77e",
   "metadata": {},
   "source": [
    "## Display informations about the data"
   ]
  },
  {
   "cell_type": "code",
   "execution_count": 33,
   "id": "b185a1d7",
   "metadata": {},
   "outputs": [],
   "source": [
    "#df.info()"
   ]
  },
  {
   "cell_type": "markdown",
   "id": "ef181219",
   "metadata": {},
   "source": [
    "## Drop 'ID' column"
   ]
  },
  {
   "cell_type": "code",
   "execution_count": 9,
   "id": "60cc9783",
   "metadata": {},
   "outputs": [],
   "source": [
    "df = df.drop(['ID'], axis = 1)"
   ]
  },
  {
   "cell_type": "code",
   "execution_count": 10,
   "id": "252e5b3a",
   "metadata": {},
   "outputs": [],
   "source": [
    "#df"
   ]
  },
  {
   "cell_type": "markdown",
   "id": "0c1b1d5d",
   "metadata": {},
   "source": [
    "## Extract 'Reasons for Absence' column"
   ]
  },
  {
   "cell_type": "markdown",
   "id": "d9253b87",
   "metadata": {},
   "source": [
    "### This list shows the categories of absenteeism. Each number represents a category"
   ]
  },
  {
   "cell_type": "code",
   "execution_count": 11,
   "id": "e026caf5",
   "metadata": {
    "scrolled": true
   },
   "outputs": [
    {
     "data": {
      "text/plain": [
       "[0,\n",
       " 1,\n",
       " 2,\n",
       " 3,\n",
       " 4,\n",
       " 5,\n",
       " 6,\n",
       " 7,\n",
       " 8,\n",
       " 9,\n",
       " 10,\n",
       " 11,\n",
       " 12,\n",
       " 13,\n",
       " 14,\n",
       " 15,\n",
       " 16,\n",
       " 17,\n",
       " 18,\n",
       " 19,\n",
       " 21,\n",
       " 22,\n",
       " 23,\n",
       " 24,\n",
       " 25,\n",
       " 26,\n",
       " 27,\n",
       " 28]"
      ]
     },
     "execution_count": 11,
     "metadata": {},
     "output_type": "execute_result"
    }
   ],
   "source": [
    "sorted(df['Reason for Absence'].unique())"
   ]
  },
  {
   "cell_type": "markdown",
   "id": "608c59d5",
   "metadata": {},
   "source": [
    "## Get dummies"
   ]
  },
  {
   "cell_type": "code",
   "execution_count": 12,
   "id": "460535d8",
   "metadata": {},
   "outputs": [],
   "source": [
    "reason_columns = pd.get_dummies(df['Reason for Absence'])"
   ]
  },
  {
   "cell_type": "code",
   "execution_count": 32,
   "id": "d0f5435a",
   "metadata": {
    "scrolled": true
   },
   "outputs": [],
   "source": [
    "#reason_columns"
   ]
  },
  {
   "cell_type": "markdown",
   "id": "7e88d45f",
   "metadata": {},
   "source": [
    "## Check if some rows have missing values"
   ]
  },
  {
   "cell_type": "markdown",
   "id": "5f2e46cc",
   "metadata": {},
   "source": [
    "#### 0: missing value || 1: single value"
   ]
  },
  {
   "cell_type": "code",
   "execution_count": 25,
   "id": "8b1b8196",
   "metadata": {
    "scrolled": true
   },
   "outputs": [],
   "source": [
    "reason_columns['check'] = reason_columns.sum(axis = 1)"
   ]
  },
  {
   "cell_type": "code",
   "execution_count": 24,
   "id": "984ed7bb",
   "metadata": {},
   "outputs": [],
   "source": [
    "#reason_columns"
   ]
  },
  {
   "cell_type": "markdown",
   "id": "c71168f1",
   "metadata": {},
   "source": [
    "### Check the vertical axis length"
   ]
  },
  {
   "cell_type": "code",
   "execution_count": 15,
   "id": "0c906db5",
   "metadata": {
    "scrolled": true
   },
   "outputs": [
    {
     "data": {
      "text/plain": [
       "700"
      ]
     },
     "execution_count": 15,
     "metadata": {},
     "output_type": "execute_result"
    }
   ],
   "source": [
    "reason_columns['check'].sum(axis = 0)"
   ]
  },
  {
   "cell_type": "markdown",
   "id": "ec18f9ac",
   "metadata": {},
   "source": [
    "### Check if we have different values from the \"check\" column"
   ]
  },
  {
   "cell_type": "code",
   "execution_count": 16,
   "id": "c34f07e8",
   "metadata": {
    "scrolled": true
   },
   "outputs": [
    {
     "data": {
      "text/plain": [
       "array([1])"
      ]
     },
     "execution_count": 16,
     "metadata": {},
     "output_type": "execute_result"
    }
   ],
   "source": [
    "reason_columns['check'].unique()"
   ]
  },
  {
   "cell_type": "markdown",
   "id": "fafb3e47",
   "metadata": {},
   "source": [
    "### Delete \"check\" column after the verifications"
   ]
  },
  {
   "cell_type": "code",
   "execution_count": 20,
   "id": "ff75d09c",
   "metadata": {
    "scrolled": false
   },
   "outputs": [
    {
     "ename": "KeyError",
     "evalue": "\"['check'] not found in axis\"",
     "output_type": "error",
     "traceback": [
      "\u001b[0;31m---------------------------------------------------------------------------\u001b[0m",
      "\u001b[0;31mKeyError\u001b[0m                                  Traceback (most recent call last)",
      "\u001b[0;32m<ipython-input-20-98f40e1db42f>\u001b[0m in \u001b[0;36m<module>\u001b[0;34m\u001b[0m\n\u001b[0;32m----> 1\u001b[0;31m \u001b[0mreason_columns\u001b[0m \u001b[0;34m=\u001b[0m \u001b[0mreason_columns\u001b[0m\u001b[0;34m.\u001b[0m\u001b[0mdrop\u001b[0m\u001b[0;34m(\u001b[0m\u001b[0;34m[\u001b[0m\u001b[0;34m'check'\u001b[0m\u001b[0;34m]\u001b[0m\u001b[0;34m,\u001b[0m \u001b[0maxis\u001b[0m \u001b[0;34m=\u001b[0m \u001b[0;36m1\u001b[0m\u001b[0;34m)\u001b[0m\u001b[0;34m\u001b[0m\u001b[0;34m\u001b[0m\u001b[0m\n\u001b[0m",
      "\u001b[0;32m/opt/anaconda3/lib/python3.8/site-packages/pandas/util/_decorators.py\u001b[0m in \u001b[0;36mwrapper\u001b[0;34m(*args, **kwargs)\u001b[0m\n\u001b[1;32m    309\u001b[0m                     \u001b[0mstacklevel\u001b[0m\u001b[0;34m=\u001b[0m\u001b[0mstacklevel\u001b[0m\u001b[0;34m,\u001b[0m\u001b[0;34m\u001b[0m\u001b[0;34m\u001b[0m\u001b[0m\n\u001b[1;32m    310\u001b[0m                 )\n\u001b[0;32m--> 311\u001b[0;31m             \u001b[0;32mreturn\u001b[0m \u001b[0mfunc\u001b[0m\u001b[0;34m(\u001b[0m\u001b[0;34m*\u001b[0m\u001b[0margs\u001b[0m\u001b[0;34m,\u001b[0m \u001b[0;34m**\u001b[0m\u001b[0mkwargs\u001b[0m\u001b[0;34m)\u001b[0m\u001b[0;34m\u001b[0m\u001b[0;34m\u001b[0m\u001b[0m\n\u001b[0m\u001b[1;32m    312\u001b[0m \u001b[0;34m\u001b[0m\u001b[0m\n\u001b[1;32m    313\u001b[0m         \u001b[0;32mreturn\u001b[0m \u001b[0mwrapper\u001b[0m\u001b[0;34m\u001b[0m\u001b[0;34m\u001b[0m\u001b[0m\n",
      "\u001b[0;32m/opt/anaconda3/lib/python3.8/site-packages/pandas/core/frame.py\u001b[0m in \u001b[0;36mdrop\u001b[0;34m(self, labels, axis, index, columns, level, inplace, errors)\u001b[0m\n\u001b[1;32m   4899\u001b[0m                 \u001b[0mweight\u001b[0m  \u001b[0;36m1.0\u001b[0m     \u001b[0;36m0.8\u001b[0m\u001b[0;34m\u001b[0m\u001b[0;34m\u001b[0m\u001b[0m\n\u001b[1;32m   4900\u001b[0m         \"\"\"\n\u001b[0;32m-> 4901\u001b[0;31m         return super().drop(\n\u001b[0m\u001b[1;32m   4902\u001b[0m             \u001b[0mlabels\u001b[0m\u001b[0;34m=\u001b[0m\u001b[0mlabels\u001b[0m\u001b[0;34m,\u001b[0m\u001b[0;34m\u001b[0m\u001b[0;34m\u001b[0m\u001b[0m\n\u001b[1;32m   4903\u001b[0m             \u001b[0maxis\u001b[0m\u001b[0;34m=\u001b[0m\u001b[0maxis\u001b[0m\u001b[0;34m,\u001b[0m\u001b[0;34m\u001b[0m\u001b[0;34m\u001b[0m\u001b[0m\n",
      "\u001b[0;32m/opt/anaconda3/lib/python3.8/site-packages/pandas/core/generic.py\u001b[0m in \u001b[0;36mdrop\u001b[0;34m(self, labels, axis, index, columns, level, inplace, errors)\u001b[0m\n\u001b[1;32m   4145\u001b[0m         \u001b[0;32mfor\u001b[0m \u001b[0maxis\u001b[0m\u001b[0;34m,\u001b[0m \u001b[0mlabels\u001b[0m \u001b[0;32min\u001b[0m \u001b[0maxes\u001b[0m\u001b[0;34m.\u001b[0m\u001b[0mitems\u001b[0m\u001b[0;34m(\u001b[0m\u001b[0;34m)\u001b[0m\u001b[0;34m:\u001b[0m\u001b[0;34m\u001b[0m\u001b[0;34m\u001b[0m\u001b[0m\n\u001b[1;32m   4146\u001b[0m             \u001b[0;32mif\u001b[0m \u001b[0mlabels\u001b[0m \u001b[0;32mis\u001b[0m \u001b[0;32mnot\u001b[0m \u001b[0;32mNone\u001b[0m\u001b[0;34m:\u001b[0m\u001b[0;34m\u001b[0m\u001b[0;34m\u001b[0m\u001b[0m\n\u001b[0;32m-> 4147\u001b[0;31m                 \u001b[0mobj\u001b[0m \u001b[0;34m=\u001b[0m \u001b[0mobj\u001b[0m\u001b[0;34m.\u001b[0m\u001b[0m_drop_axis\u001b[0m\u001b[0;34m(\u001b[0m\u001b[0mlabels\u001b[0m\u001b[0;34m,\u001b[0m \u001b[0maxis\u001b[0m\u001b[0;34m,\u001b[0m \u001b[0mlevel\u001b[0m\u001b[0;34m=\u001b[0m\u001b[0mlevel\u001b[0m\u001b[0;34m,\u001b[0m \u001b[0merrors\u001b[0m\u001b[0;34m=\u001b[0m\u001b[0merrors\u001b[0m\u001b[0;34m)\u001b[0m\u001b[0;34m\u001b[0m\u001b[0;34m\u001b[0m\u001b[0m\n\u001b[0m\u001b[1;32m   4148\u001b[0m \u001b[0;34m\u001b[0m\u001b[0m\n\u001b[1;32m   4149\u001b[0m         \u001b[0;32mif\u001b[0m \u001b[0minplace\u001b[0m\u001b[0;34m:\u001b[0m\u001b[0;34m\u001b[0m\u001b[0;34m\u001b[0m\u001b[0m\n",
      "\u001b[0;32m/opt/anaconda3/lib/python3.8/site-packages/pandas/core/generic.py\u001b[0m in \u001b[0;36m_drop_axis\u001b[0;34m(self, labels, axis, level, errors)\u001b[0m\n\u001b[1;32m   4180\u001b[0m                 \u001b[0mnew_axis\u001b[0m \u001b[0;34m=\u001b[0m \u001b[0maxis\u001b[0m\u001b[0;34m.\u001b[0m\u001b[0mdrop\u001b[0m\u001b[0;34m(\u001b[0m\u001b[0mlabels\u001b[0m\u001b[0;34m,\u001b[0m \u001b[0mlevel\u001b[0m\u001b[0;34m=\u001b[0m\u001b[0mlevel\u001b[0m\u001b[0;34m,\u001b[0m \u001b[0merrors\u001b[0m\u001b[0;34m=\u001b[0m\u001b[0merrors\u001b[0m\u001b[0;34m)\u001b[0m\u001b[0;34m\u001b[0m\u001b[0;34m\u001b[0m\u001b[0m\n\u001b[1;32m   4181\u001b[0m             \u001b[0;32melse\u001b[0m\u001b[0;34m:\u001b[0m\u001b[0;34m\u001b[0m\u001b[0;34m\u001b[0m\u001b[0m\n\u001b[0;32m-> 4182\u001b[0;31m                 \u001b[0mnew_axis\u001b[0m \u001b[0;34m=\u001b[0m \u001b[0maxis\u001b[0m\u001b[0;34m.\u001b[0m\u001b[0mdrop\u001b[0m\u001b[0;34m(\u001b[0m\u001b[0mlabels\u001b[0m\u001b[0;34m,\u001b[0m \u001b[0merrors\u001b[0m\u001b[0;34m=\u001b[0m\u001b[0merrors\u001b[0m\u001b[0;34m)\u001b[0m\u001b[0;34m\u001b[0m\u001b[0;34m\u001b[0m\u001b[0m\n\u001b[0m\u001b[1;32m   4183\u001b[0m             \u001b[0mresult\u001b[0m \u001b[0;34m=\u001b[0m \u001b[0mself\u001b[0m\u001b[0;34m.\u001b[0m\u001b[0mreindex\u001b[0m\u001b[0;34m(\u001b[0m\u001b[0;34m**\u001b[0m\u001b[0;34m{\u001b[0m\u001b[0maxis_name\u001b[0m\u001b[0;34m:\u001b[0m \u001b[0mnew_axis\u001b[0m\u001b[0;34m}\u001b[0m\u001b[0;34m)\u001b[0m\u001b[0;34m\u001b[0m\u001b[0;34m\u001b[0m\u001b[0m\n\u001b[1;32m   4184\u001b[0m \u001b[0;34m\u001b[0m\u001b[0m\n",
      "\u001b[0;32m/opt/anaconda3/lib/python3.8/site-packages/pandas/core/indexes/base.py\u001b[0m in \u001b[0;36mdrop\u001b[0;34m(self, labels, errors)\u001b[0m\n\u001b[1;32m   6016\u001b[0m         \u001b[0;32mif\u001b[0m \u001b[0mmask\u001b[0m\u001b[0;34m.\u001b[0m\u001b[0many\u001b[0m\u001b[0;34m(\u001b[0m\u001b[0;34m)\u001b[0m\u001b[0;34m:\u001b[0m\u001b[0;34m\u001b[0m\u001b[0;34m\u001b[0m\u001b[0m\n\u001b[1;32m   6017\u001b[0m             \u001b[0;32mif\u001b[0m \u001b[0merrors\u001b[0m \u001b[0;34m!=\u001b[0m \u001b[0;34m\"ignore\"\u001b[0m\u001b[0;34m:\u001b[0m\u001b[0;34m\u001b[0m\u001b[0;34m\u001b[0m\u001b[0m\n\u001b[0;32m-> 6018\u001b[0;31m                 \u001b[0;32mraise\u001b[0m \u001b[0mKeyError\u001b[0m\u001b[0;34m(\u001b[0m\u001b[0;34mf\"{labels[mask]} not found in axis\"\u001b[0m\u001b[0;34m)\u001b[0m\u001b[0;34m\u001b[0m\u001b[0;34m\u001b[0m\u001b[0m\n\u001b[0m\u001b[1;32m   6019\u001b[0m             \u001b[0mindexer\u001b[0m \u001b[0;34m=\u001b[0m \u001b[0mindexer\u001b[0m\u001b[0;34m[\u001b[0m\u001b[0;34m~\u001b[0m\u001b[0mmask\u001b[0m\u001b[0;34m]\u001b[0m\u001b[0;34m\u001b[0m\u001b[0;34m\u001b[0m\u001b[0m\n\u001b[1;32m   6020\u001b[0m         \u001b[0;32mreturn\u001b[0m \u001b[0mself\u001b[0m\u001b[0;34m.\u001b[0m\u001b[0mdelete\u001b[0m\u001b[0;34m(\u001b[0m\u001b[0mindexer\u001b[0m\u001b[0;34m)\u001b[0m\u001b[0;34m\u001b[0m\u001b[0;34m\u001b[0m\u001b[0m\n",
      "\u001b[0;31mKeyError\u001b[0m: \"['check'] not found in axis\""
     ]
    }
   ],
   "source": [
    "reason_columns = reason_columns.drop(['check'], axis = 1)"
   ]
  },
  {
   "cell_type": "code",
   "execution_count": 31,
   "id": "f6ce5a98",
   "metadata": {},
   "outputs": [],
   "source": [
    "#reason_columns"
   ]
  },
  {
   "cell_type": "markdown",
   "id": "63ee3716",
   "metadata": {},
   "source": [
    "## Delete column 0 from \"reason_columns\" variable"
   ]
  },
  {
   "cell_type": "code",
   "execution_count": 18,
   "id": "05cbc707",
   "metadata": {},
   "outputs": [],
   "source": [
    "reason_columns = pd.get_dummies(df['Reason for Absence'], drop_first = True)"
   ]
  },
  {
   "cell_type": "code",
   "execution_count": 22,
   "id": "e32865aa",
   "metadata": {
    "scrolled": false
   },
   "outputs": [],
   "source": [
    "#reason_columns"
   ]
  },
  {
   "cell_type": "markdown",
   "id": "382bc581",
   "metadata": {},
   "source": [
    "## Grouping the \"Reason for Absence\" columns"
   ]
  },
  {
   "cell_type": "markdown",
   "id": "bef8f81a",
   "metadata": {},
   "source": [
    "### Three steps:\n",
    "- Add dummy variables on the current state of DateFrame (avoid duplicate information between \"Reason for Absence\" column and dummy variables)\n",
    "- Grouping the variables into the DataFrame (create group for each category)"
   ]
  },
  {
   "cell_type": "markdown",
   "id": "c3b6d945",
   "metadata": {},
   "source": [
    "### First step"
   ]
  },
  {
   "cell_type": "code",
   "execution_count": 26,
   "id": "50a8f86a",
   "metadata": {
    "scrolled": true
   },
   "outputs": [
    {
     "data": {
      "text/plain": [
       "array(['Reason for Absence', 'Date', 'Transportation Expense',\n",
       "       'Distance to Work', 'Age', 'Daily Work Load Average',\n",
       "       'Body Mass Index', 'Education', 'Children', 'Pets',\n",
       "       'Absenteeism Time in Hours'], dtype=object)"
      ]
     },
     "execution_count": 26,
     "metadata": {},
     "output_type": "execute_result"
    }
   ],
   "source": [
    "df.columns.values"
   ]
  },
  {
   "cell_type": "code",
   "execution_count": 27,
   "id": "e66a7fea",
   "metadata": {},
   "outputs": [
    {
     "data": {
      "text/plain": [
       "array([1, 2, 3, 4, 5, 6, 7, 8, 9, 10, 11, 12, 13, 14, 15, 16, 17, 18, 19,\n",
       "       21, 22, 23, 24, 25, 26, 27, 28, 'check'], dtype=object)"
      ]
     },
     "execution_count": 27,
     "metadata": {},
     "output_type": "execute_result"
    }
   ],
   "source": [
    "reason_columns.columns.values"
   ]
  },
  {
   "cell_type": "code",
   "execution_count": 28,
   "id": "3c948773",
   "metadata": {},
   "outputs": [],
   "source": [
    "df = df.drop(['Reason for Absence'], axis = 1)"
   ]
  },
  {
   "cell_type": "code",
   "execution_count": 30,
   "id": "6a01989d",
   "metadata": {
    "scrolled": false
   },
   "outputs": [],
   "source": [
    "#df"
   ]
  },
  {
   "cell_type": "markdown",
   "id": "bfd76ce1",
   "metadata": {},
   "source": [
    "### Second step"
   ]
  },
  {
   "cell_type": "code",
   "execution_count": 39,
   "id": "9a11722b",
   "metadata": {},
   "outputs": [],
   "source": [
    "reason_type_1 = reason_columns.loc[:, 1:14].max(axis = 1)\n",
    "reason_type_2 = reason_columns.loc[:, 14:17].max(axis = 1)\n",
    "reason_type_3 = reason_columns.loc[:, 18:21].max(axis = 1)\n",
    "reason_type_4 = reason_columns.loc[:, 22:28].max(axis = 1)"
   ]
  },
  {
   "cell_type": "code",
   "execution_count": 43,
   "id": "0f587fab",
   "metadata": {},
   "outputs": [
    {
     "data": {
      "text/plain": [
       "0      0\n",
       "1      0\n",
       "2      0\n",
       "3      1\n",
       "4      0\n",
       "5      0\n",
       "6      0\n",
       "7      0\n",
       "8      0\n",
       "9      0\n",
       "10     1\n",
       "11     1\n",
       "12     1\n",
       "13     1\n",
       "14     0\n",
       "15     1\n",
       "16     0\n",
       "17     0\n",
       "18     1\n",
       "19     0\n",
       "20     1\n",
       "21     1\n",
       "22     1\n",
       "23     0\n",
       "24     0\n",
       "25     0\n",
       "26     0\n",
       "27     0\n",
       "28     0\n",
       "29     0\n",
       "30     0\n",
       "31     0\n",
       "32     0\n",
       "33     0\n",
       "34     0\n",
       "35     0\n",
       "36     0\n",
       "37     1\n",
       "38     0\n",
       "39     0\n",
       "40     0\n",
       "41     0\n",
       "42     0\n",
       "43     0\n",
       "44     0\n",
       "45     0\n",
       "46     0\n",
       "47     0\n",
       "48     0\n",
       "49     1\n",
       "50     0\n",
       "51     0\n",
       "52     0\n",
       "53     0\n",
       "54     0\n",
       "55     0\n",
       "56     0\n",
       "57     0\n",
       "58     0\n",
       "59     0\n",
       "60     0\n",
       "61     0\n",
       "62     0\n",
       "63     0\n",
       "64     0\n",
       "65     0\n",
       "66     0\n",
       "67     0\n",
       "68     0\n",
       "69     0\n",
       "70     0\n",
       "71     0\n",
       "72     0\n",
       "73     0\n",
       "74     0\n",
       "75     1\n",
       "76     0\n",
       "77     0\n",
       "78     0\n",
       "79     0\n",
       "80     0\n",
       "81     0\n",
       "82     1\n",
       "83     0\n",
       "84     0\n",
       "85     1\n",
       "86     0\n",
       "87     1\n",
       "88     0\n",
       "89     1\n",
       "90     0\n",
       "91     0\n",
       "92     1\n",
       "93     0\n",
       "94     0\n",
       "95     0\n",
       "96     1\n",
       "97     0\n",
       "98     0\n",
       "99     0\n",
       "100    0\n",
       "101    0\n",
       "102    0\n",
       "103    0\n",
       "104    0\n",
       "105    0\n",
       "106    0\n",
       "107    0\n",
       "108    0\n",
       "109    0\n",
       "110    0\n",
       "111    0\n",
       "112    0\n",
       "113    0\n",
       "114    0\n",
       "115    0\n",
       "116    0\n",
       "117    0\n",
       "118    0\n",
       "119    0\n",
       "120    0\n",
       "121    0\n",
       "122    0\n",
       "123    0\n",
       "124    0\n",
       "125    0\n",
       "126    0\n",
       "127    0\n",
       "128    0\n",
       "129    0\n",
       "130    0\n",
       "131    0\n",
       "132    0\n",
       "133    0\n",
       "134    0\n",
       "135    0\n",
       "136    0\n",
       "137    0\n",
       "138    1\n",
       "139    1\n",
       "140    0\n",
       "141    0\n",
       "142    0\n",
       "143    0\n",
       "144    1\n",
       "145    1\n",
       "146    0\n",
       "147    0\n",
       "148    0\n",
       "149    0\n",
       "150    0\n",
       "151    0\n",
       "152    0\n",
       "153    0\n",
       "154    0\n",
       "155    0\n",
       "156    0\n",
       "157    0\n",
       "158    0\n",
       "159    0\n",
       "160    1\n",
       "161    1\n",
       "162    1\n",
       "163    1\n",
       "164    1\n",
       "165    1\n",
       "166    0\n",
       "167    1\n",
       "168    1\n",
       "169    1\n",
       "170    0\n",
       "171    0\n",
       "172    1\n",
       "173    1\n",
       "174    0\n",
       "175    1\n",
       "176    1\n",
       "177    1\n",
       "178    1\n",
       "179    1\n",
       "180    1\n",
       "181    0\n",
       "182    1\n",
       "183    0\n",
       "184    0\n",
       "185    0\n",
       "186    0\n",
       "187    1\n",
       "188    0\n",
       "189    0\n",
       "190    0\n",
       "191    1\n",
       "192    0\n",
       "193    0\n",
       "194    1\n",
       "195    0\n",
       "196    0\n",
       "197    0\n",
       "198    0\n",
       "199    1\n",
       "200    0\n",
       "201    1\n",
       "202    1\n",
       "203    0\n",
       "204    1\n",
       "205    0\n",
       "206    0\n",
       "207    0\n",
       "208    0\n",
       "209    1\n",
       "210    0\n",
       "211    1\n",
       "212    1\n",
       "213    0\n",
       "214    0\n",
       "215    0\n",
       "216    0\n",
       "217    1\n",
       "218    1\n",
       "219    0\n",
       "220    0\n",
       "221    0\n",
       "222    1\n",
       "223    0\n",
       "224    1\n",
       "225    1\n",
       "226    0\n",
       "227    1\n",
       "228    1\n",
       "229    1\n",
       "230    0\n",
       "231    1\n",
       "232    0\n",
       "233    1\n",
       "234    0\n",
       "235    0\n",
       "236    0\n",
       "237    1\n",
       "238    1\n",
       "239    0\n",
       "240    0\n",
       "241    0\n",
       "242    0\n",
       "243    1\n",
       "244    1\n",
       "245    0\n",
       "246    0\n",
       "247    0\n",
       "248    0\n",
       "249    0\n",
       "250    0\n",
       "251    0\n",
       "252    0\n",
       "253    0\n",
       "254    0\n",
       "255    0\n",
       "256    1\n",
       "257    1\n",
       "258    0\n",
       "259    0\n",
       "260    0\n",
       "261    1\n",
       "262    0\n",
       "263    1\n",
       "264    0\n",
       "265    0\n",
       "266    0\n",
       "267    0\n",
       "268    1\n",
       "269    1\n",
       "270    1\n",
       "271    0\n",
       "272    0\n",
       "273    0\n",
       "274    1\n",
       "275    0\n",
       "276    0\n",
       "277    0\n",
       "278    1\n",
       "279    1\n",
       "280    0\n",
       "281    0\n",
       "282    0\n",
       "283    0\n",
       "284    0\n",
       "285    0\n",
       "286    0\n",
       "287    1\n",
       "288    1\n",
       "289    0\n",
       "290    0\n",
       "291    0\n",
       "292    0\n",
       "293    0\n",
       "294    0\n",
       "295    1\n",
       "296    1\n",
       "297    0\n",
       "298    0\n",
       "299    1\n",
       "300    0\n",
       "301    0\n",
       "302    0\n",
       "303    0\n",
       "304    0\n",
       "305    0\n",
       "306    0\n",
       "307    0\n",
       "308    0\n",
       "309    0\n",
       "310    1\n",
       "311    0\n",
       "312    0\n",
       "313    0\n",
       "314    1\n",
       "315    1\n",
       "316    0\n",
       "317    1\n",
       "318    0\n",
       "319    1\n",
       "320    0\n",
       "321    0\n",
       "322    1\n",
       "323    1\n",
       "324    0\n",
       "325    0\n",
       "326    0\n",
       "327    1\n",
       "328    0\n",
       "329    0\n",
       "330    1\n",
       "331    1\n",
       "332    1\n",
       "333    0\n",
       "334    1\n",
       "335    0\n",
       "336    0\n",
       "337    0\n",
       "338    0\n",
       "339    1\n",
       "340    0\n",
       "341    0\n",
       "342    0\n",
       "343    0\n",
       "344    0\n",
       "345    1\n",
       "346    0\n",
       "347    0\n",
       "348    0\n",
       "349    0\n",
       "350    0\n",
       "351    0\n",
       "352    1\n",
       "353    1\n",
       "354    0\n",
       "355    0\n",
       "356    0\n",
       "357    0\n",
       "358    0\n",
       "359    0\n",
       "360    0\n",
       "361    1\n",
       "362    0\n",
       "363    0\n",
       "364    1\n",
       "365    0\n",
       "366    0\n",
       "367    0\n",
       "368    0\n",
       "369    0\n",
       "370    0\n",
       "371    1\n",
       "372    0\n",
       "373    0\n",
       "374    0\n",
       "375    0\n",
       "376    0\n",
       "377    1\n",
       "378    0\n",
       "379    0\n",
       "380    0\n",
       "381    0\n",
       "382    0\n",
       "383    0\n",
       "384    1\n",
       "385    0\n",
       "386    0\n",
       "387    1\n",
       "388    0\n",
       "389    0\n",
       "390    0\n",
       "391    0\n",
       "392    0\n",
       "393    0\n",
       "394    0\n",
       "395    0\n",
       "396    0\n",
       "397    0\n",
       "398    0\n",
       "399    0\n",
       "400    0\n",
       "401    0\n",
       "402    0\n",
       "403    1\n",
       "404    1\n",
       "405    0\n",
       "406    0\n",
       "407    0\n",
       "408    0\n",
       "409    0\n",
       "410    0\n",
       "411    0\n",
       "412    0\n",
       "413    0\n",
       "414    0\n",
       "415    0\n",
       "416    0\n",
       "417    0\n",
       "418    0\n",
       "419    0\n",
       "420    1\n",
       "421    0\n",
       "422    0\n",
       "423    0\n",
       "424    1\n",
       "425    1\n",
       "426    0\n",
       "427    1\n",
       "428    0\n",
       "429    0\n",
       "430    0\n",
       "431    0\n",
       "432    1\n",
       "433    1\n",
       "434    0\n",
       "435    0\n",
       "436    1\n",
       "437    0\n",
       "438    0\n",
       "439    1\n",
       "440    0\n",
       "441    0\n",
       "442    0\n",
       "443    0\n",
       "444    0\n",
       "445    0\n",
       "446    0\n",
       "447    1\n",
       "448    0\n",
       "449    0\n",
       "450    0\n",
       "451    0\n",
       "452    0\n",
       "453    0\n",
       "454    0\n",
       "455    1\n",
       "456    0\n",
       "457    0\n",
       "458    1\n",
       "459    1\n",
       "460    0\n",
       "461    0\n",
       "462    1\n",
       "463    1\n",
       "464    0\n",
       "465    0\n",
       "466    0\n",
       "467    0\n",
       "468    0\n",
       "469    0\n",
       "470    0\n",
       "471    1\n",
       "472    0\n",
       "473    0\n",
       "474    0\n",
       "475    0\n",
       "476    0\n",
       "477    0\n",
       "478    0\n",
       "479    0\n",
       "480    0\n",
       "481    0\n",
       "482    0\n",
       "483    0\n",
       "484    0\n",
       "485    0\n",
       "486    0\n",
       "487    0\n",
       "488    0\n",
       "489    0\n",
       "490    0\n",
       "491    0\n",
       "492    0\n",
       "493    0\n",
       "494    0\n",
       "495    0\n",
       "496    0\n",
       "497    0\n",
       "498    0\n",
       "499    0\n",
       "500    0\n",
       "501    0\n",
       "502    0\n",
       "503    0\n",
       "504    0\n",
       "505    0\n",
       "506    0\n",
       "507    1\n",
       "508    1\n",
       "509    0\n",
       "510    1\n",
       "511    0\n",
       "512    0\n",
       "513    0\n",
       "514    0\n",
       "515    0\n",
       "516    0\n",
       "517    0\n",
       "518    0\n",
       "519    0\n",
       "520    0\n",
       "521    1\n",
       "522    0\n",
       "523    1\n",
       "524    1\n",
       "525    1\n",
       "526    1\n",
       "527    0\n",
       "528    1\n",
       "529    1\n",
       "530    0\n",
       "531    1\n",
       "532    0\n",
       "533    0\n",
       "534    1\n",
       "535    0\n",
       "536    1\n",
       "537    0\n",
       "538    1\n",
       "539    0\n",
       "540    0\n",
       "541    0\n",
       "542    1\n",
       "543    1\n",
       "544    0\n",
       "545    0\n",
       "546    1\n",
       "547    0\n",
       "548    0\n",
       "549    0\n",
       "550    1\n",
       "551    0\n",
       "552    0\n",
       "553    0\n",
       "554    0\n",
       "555    1\n",
       "556    0\n",
       "557    0\n",
       "558    1\n",
       "559    0\n",
       "560    0\n",
       "561    1\n",
       "562    0\n",
       "563    0\n",
       "564    0\n",
       "565    1\n",
       "566    0\n",
       "567    0\n",
       "568    0\n",
       "569    0\n",
       "570    1\n",
       "571    1\n",
       "572    0\n",
       "573    0\n",
       "574    1\n",
       "575    0\n",
       "576    1\n",
       "577    0\n",
       "578    0\n",
       "579    0\n",
       "580    0\n",
       "581    0\n",
       "582    1\n",
       "583    0\n",
       "584    0\n",
       "585    1\n",
       "586    0\n",
       "587    1\n",
       "588    0\n",
       "589    0\n",
       "590    0\n",
       "591    0\n",
       "592    0\n",
       "593    0\n",
       "594    0\n",
       "595    0\n",
       "596    1\n",
       "597    0\n",
       "598    0\n",
       "599    0\n",
       "600    1\n",
       "601    0\n",
       "602    0\n",
       "603    1\n",
       "604    0\n",
       "605    0\n",
       "606    1\n",
       "607    0\n",
       "608    0\n",
       "609    0\n",
       "610    0\n",
       "611    1\n",
       "612    0\n",
       "613    0\n",
       "614    0\n",
       "615    0\n",
       "616    0\n",
       "617    0\n",
       "618    0\n",
       "619    0\n",
       "620    0\n",
       "621    0\n",
       "622    1\n",
       "623    0\n",
       "624    0\n",
       "625    0\n",
       "626    0\n",
       "627    0\n",
       "628    0\n",
       "629    0\n",
       "630    1\n",
       "631    0\n",
       "632    0\n",
       "633    0\n",
       "634    1\n",
       "635    1\n",
       "636    0\n",
       "637    1\n",
       "638    0\n",
       "639    0\n",
       "640    0\n",
       "641    0\n",
       "642    0\n",
       "643    0\n",
       "644    0\n",
       "645    0\n",
       "646    0\n",
       "647    0\n",
       "648    1\n",
       "649    0\n",
       "650    0\n",
       "651    1\n",
       "652    0\n",
       "653    0\n",
       "654    1\n",
       "655    1\n",
       "656    0\n",
       "657    0\n",
       "658    1\n",
       "659    0\n",
       "660    1\n",
       "661    0\n",
       "662    0\n",
       "663    0\n",
       "664    1\n",
       "665    0\n",
       "666    0\n",
       "667    0\n",
       "668    0\n",
       "669    0\n",
       "670    0\n",
       "671    0\n",
       "672    1\n",
       "673    0\n",
       "674    0\n",
       "675    0\n",
       "676    0\n",
       "677    1\n",
       "678    0\n",
       "679    1\n",
       "680    0\n",
       "681    1\n",
       "682    0\n",
       "683    0\n",
       "684    0\n",
       "685    0\n",
       "686    1\n",
       "687    0\n",
       "688    0\n",
       "689    0\n",
       "690    0\n",
       "691    0\n",
       "692    1\n",
       "693    1\n",
       "694    0\n",
       "695    1\n",
       "696    1\n",
       "697    1\n",
       "698    0\n",
       "699    0\n",
       "dtype: uint8"
      ]
     },
     "execution_count": 43,
     "metadata": {},
     "output_type": "execute_result"
    }
   ],
   "source": [
    "#reason_type_1"
   ]
  },
  {
   "cell_type": "code",
   "execution_count": null,
   "id": "ef2167f3",
   "metadata": {},
   "outputs": [],
   "source": []
  }
 ],
 "metadata": {
  "kernelspec": {
   "display_name": "Python 3",
   "language": "python",
   "name": "python3"
  },
  "language_info": {
   "codemirror_mode": {
    "name": "ipython",
    "version": 3
   },
   "file_extension": ".py",
   "mimetype": "text/x-python",
   "name": "python",
   "nbconvert_exporter": "python",
   "pygments_lexer": "ipython3",
   "version": "3.8.8"
  }
 },
 "nbformat": 4,
 "nbformat_minor": 5
}
